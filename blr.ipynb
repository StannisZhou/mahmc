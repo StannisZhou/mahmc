{
 "cells": [
  {
   "cell_type": "code",
   "execution_count": 1,
   "id": "271e07eb",
   "metadata": {},
   "outputs": [],
   "source": [
    "%matplotlib inline\n",
    "import functools\n",
    "\n",
    "import jax\n",
    "import jax.numpy as jnp\n",
    "import matplotlib.pyplot as plt\n",
    "import numpy as np\n",
    "from jax.scipy.special import expit\n",
    "from jax.scipy.stats import bernoulli, gamma, norm\n",
    "from sklearn.datasets import load_breast_cancer\n",
    "\n",
    "from samplers import get_min_ess, make_samplers"
   ]
  },
  {
   "cell_type": "markdown",
   "id": "688c743e",
   "metadata": {},
   "source": [
    "# Basic setup"
   ]
  },
  {
   "cell_type": "code",
   "execution_count": 2,
   "id": "42728836",
   "metadata": {},
   "outputs": [],
   "source": [
    "data = load_breast_cancer()\n",
    "X = (data.data - np.mean(data.data, axis=0, keepdims=True)) / np.std(\n",
    "    data.data, axis=0, keepdims=True\n",
    ")\n",
    "X = np.concatenate([X, np.ones((X.shape[0], 1))], axis=1)\n",
    "y = data.target"
   ]
  },
  {
   "cell_type": "code",
   "execution_count": 3,
   "id": "0e8f9e0d",
   "metadata": {},
   "outputs": [
    {
     "name": "stderr",
     "output_type": "stream",
     "text": [
      "WARNING:absl:No GPU/TPU found, falling back to CPU. (Set TF_CPP_MIN_LOG_LEVEL=0 and rerun for more info.)\n"
     ]
    },
    {
     "data": {
      "image/png": "[encoded data removed]",
      "text/plain": [
       "<Figure size 432x288 with 1 Axes>"
      ]
     },
     "metadata": {
      "needs_background": "light"
     },
     "output_type": "display_data"
    }
   ],
   "source": [
    "a = 1.0\n",
    "beta = 0.01\n",
    "ndim = X.shape[1]\n",
    "x = np.linspace(0.01, 1000, int(1e5))\n",
    "plt.plot(x, gamma.pdf(x, a, scale=1 / beta))\n",
    "\n",
    "\n",
    "@jax.jit\n",
    "def joint_energy(q_hmc, q_other):\n",
    "    return (\n",
    "        -gamma.logpdf(q_other, a, scale=1 / beta)\n",
    "        - jnp.sum(norm.logpdf(q_hmc, scale=1 / jnp.sqrt(q_other)))\n",
    "        - jnp.sum(bernoulli.logpmf(y, p=expit(jnp.dot(X, q_hmc))))\n",
    "    )\n",
    "\n",
    "\n",
    "@jax.jit\n",
    "def sample_q_other(q_hmc, key):\n",
    "    key, subkey = jax.random.split(key)\n",
    "    q_other = jax.random.gamma(subkey, a + 0.5 * q_hmc.shape[0]) / (\n",
    "        beta + 0.5 * jnp.sum(q_hmc ** 2)\n",
    "    )\n",
    "    return q_other, key\n",
    "\n",
    "\n",
    "@jax.jit\n",
    "def get_step_size(q_other, epsilon):\n",
    "    return epsilon / jnp.sqrt(q_other)"
   ]
  },
  {
   "cell_type": "code",
   "execution_count": 4,
   "id": "66ad39ef",
   "metadata": {
    "lines_to_next_cell": 2
   },
   "outputs": [],
   "source": [
    "(\n",
    "    mala_within_gibbs,\n",
    "    hmc_within_gibbs,\n",
    "    mahmc_within_gibbs,\n",
    "    mala_persistent_within_gibbs,\n",
    "    mala_persistent_nonreversible_within_gibbs,\n",
    ") = make_samplers(joint_energy, sample_q_other, get_step_size)"
   ]
  },
  {
   "cell_type": "code",
   "execution_count": 5,
   "id": "7f2c9216",
   "metadata": {},
   "outputs": [],
   "source": [
    "n_samples, n_warm_up_samples = int(1e5), int(1e4)\n",
    "L = 5\n",
    "n_chains = 1"
   ]
  },
  {
   "cell_type": "markdown",
   "id": "738c2a5f",
   "metadata": {},
   "source": [
    "# MALA within Gibbs"
   ]
  },
  {
   "cell_type": "code",
   "execution_count": 6,
   "id": "0dee2f7b",
   "metadata": {},
   "outputs": [
    {
     "name": "stderr",
     "output_type": "stream",
     "text": [
      "100%|████████████████████████████████████████████████████████████████████████████████████████████████████████████████████████████████████████████████████████████████████████████████| 1/1 [00:00<00:00, 6978.88it/s]\n"
     ]
    },
    {
     "name": "stdout",
     "output_type": "stream",
     "text": [
      "\n",
      "### MALA-within-Gibbs, epsilon: 0.11\n",
      "\n",
      "energies_ess: 0.006790891102627784\n",
      "acceptance: 0.8209933638572693\n",
      "accuracy: 0.9876977205276489\n",
      "\n",
      "\n"
     ]
    }
   ],
   "source": [
    "epsilon = 0.11\n",
    "\n",
    "\n",
    "@jax.jit\n",
    "@functools.partial(jax.vmap, in_axes=(0, None), out_axes=0)\n",
    "def get_mala_within_gibbs_samples(key, epsilon):\n",
    "    def scan_f(carry, ii):\n",
    "        beta, tau, key = carry\n",
    "        beta, tau, key, accept = mala_within_gibbs(beta, tau, key, epsilon, L)\n",
    "        energy = joint_energy(beta, tau)\n",
    "        return (beta, tau, key), (beta, tau, energy, accept)\n",
    "\n",
    "    tau = 150.0\n",
    "    key, subkey = jax.random.split(key)\n",
    "    beta = jax.random.normal(subkey, shape=(ndim,)) / jnp.sqrt(tau)\n",
    "    _, samples = jax.lax.scan(scan_f, (beta, tau, key), jnp.arange(n_samples))\n",
    "    samples = jax.tree_util.tree_map(lambda x: x[n_warm_up_samples:], samples)\n",
    "    return samples\n",
    "\n",
    "\n",
    "key = jax.random.PRNGKey(np.random.randint(int(1e5)))\n",
    "keys = jax.random.split(key, n_chains)\n",
    "samples = get_mala_within_gibbs_samples(keys, epsilon)\n",
    "print(\n",
    "    f\"\"\"\n",
    "### MALA-within-Gibbs, epsilon: {epsilon}\n",
    "\n",
    "energies_ess: {get_min_ess(samples[2][..., None].copy())}\n",
    "acceptance: {np.mean(samples[3])}\n",
    "accuracy: {\n",
    "    np.sum(\n",
    "        y == (\n",
    "            np.mean(\n",
    "                expit(jnp.dot(samples[0][0], X.T)) >= 0.5,\n",
    "                axis=0\n",
    "            ) >= 0.5\n",
    "        ).astype(int)\n",
    "    ) / y.shape[0]\n",
    "}\n",
    "\n",
    "\"\"\"\n",
    ")"
   ]
  },
  {
   "cell_type": "markdown",
   "id": "4930e8b0",
   "metadata": {},
   "source": [
    "# HMC-within-Gibbs"
   ]
  },
  {
   "cell_type": "code",
   "execution_count": 7,
   "id": "772f4db1",
   "metadata": {
    "lines_to_next_cell": 2
   },
   "outputs": [
    {
     "name": "stderr",
     "output_type": "stream",
     "text": [
      "100%|████████████████████████████████████████████████████████████████████████████████████████████████████████████████████████████████████████████████████████████████████████████████| 1/1 [00:00<00:00, 7503.23it/s]\n"
     ]
    },
    {
     "name": "stdout",
     "output_type": "stream",
     "text": [
      "\n",
      "### HMC-within-Gibbs, N: 2, epsilon: 0.09\n",
      "\n",
      "energies_ess: 0.03945755561291712\n",
      "acceptance: 0.881588876247406\n",
      "accuracy: 0.9876977205276489\n",
      "\n",
      "\n"
     ]
    }
   ],
   "source": [
    "N = 2\n",
    "epsilon = 0.09\n",
    "\n",
    "\n",
    "@functools.partial(jax.jit, static_argnames=\"N\")\n",
    "@functools.partial(jax.vmap, in_axes=(0, None, None), out_axes=0)\n",
    "def get_hmc_within_gibbs_samples(key, N, epsilon):\n",
    "    def scan_f(carry, ii):\n",
    "        beta, tau, key = carry\n",
    "        beta, tau, key, accept = hmc_within_gibbs(beta, tau, key, epsilon, L * N)\n",
    "        energy = joint_energy(beta, tau)\n",
    "        return (beta, tau, key), (beta, tau, energy, accept)\n",
    "\n",
    "    tau = 150.0\n",
    "    key, subkey = jax.random.split(key)\n",
    "    beta = jax.random.normal(subkey, shape=(ndim,)) / jnp.sqrt(tau)\n",
    "    _, samples = jax.lax.scan(scan_f, (beta, tau, key), jnp.arange(n_samples))\n",
    "    samples = jax.tree_util.tree_map(lambda x: x[n_warm_up_samples:], samples)\n",
    "    return samples\n",
    "\n",
    "\n",
    "key = jax.random.PRNGKey(np.random.randint(int(1e5)))\n",
    "keys = jax.random.split(key, n_chains)\n",
    "samples = get_hmc_within_gibbs_samples(keys, N, epsilon)\n",
    "print(\n",
    "    f\"\"\"\n",
    "### HMC-within-Gibbs, N: {N}, epsilon: {epsilon}\n",
    "\n",
    "energies_ess: {get_min_ess(samples[2][..., None].copy()) / N}\n",
    "acceptance: {np.mean(samples[3])}\n",
    "accuracy: {\n",
    "    np.sum(\n",
    "        y == (\n",
    "            np.mean(\n",
    "                expit(jnp.dot(samples[0][0], X.T)) >= 0.5,\n",
    "                axis=0\n",
    "            ) >= 0.5\n",
    "        ).astype(int)\n",
    "    ) / y.shape[0]\n",
    "}\n",
    "\n",
    "\"\"\"\n",
    ")"
   ]
  },
  {
   "cell_type": "markdown",
   "id": "123b94d2",
   "metadata": {},
   "source": [
    "# MAHMC"
   ]
  },
  {
   "cell_type": "code",
   "execution_count": 8,
   "id": "11246c0b",
   "metadata": {
    "lines_to_next_cell": 2
   },
   "outputs": [
    {
     "name": "stderr",
     "output_type": "stream",
     "text": [
      "100%|████████████████████████████████████████████████████████████████████████████████████████████████████████████████████████████████████████████████████████████████████████████████| 1/1 [00:00<00:00, 5440.08it/s]\n"
     ]
    },
    {
     "name": "stdout",
     "output_type": "stream",
     "text": [
      "\n",
      "### MAHMC-within-Gibbs, N: 2, epsilon: 0.1\n",
      "\n",
      "energies_ess: 0.047817248469230286\n",
      "acceptance: 0.8319000005722046\n",
      "accuracy: 0.9876977205276489\n",
      "\n",
      "\n"
     ]
    }
   ],
   "source": [
    "N = 2\n",
    "epsilon = 0.10\n",
    "\n",
    "\n",
    "@functools.partial(jax.jit, static_argnames=\"N\")\n",
    "@functools.partial(jax.vmap, in_axes=(0, None, None), out_axes=0)\n",
    "def get_mahmc_within_gibbs_samples(key, N, epsilon):\n",
    "    def scan_f(carry, ii):\n",
    "        beta, tau, key = carry\n",
    "        beta, tau, key, accept = mahmc_within_gibbs(beta, tau, key, epsilon, L, N)\n",
    "        energy = joint_energy(beta, tau)\n",
    "        return (beta, tau, key), (beta, tau, energy, accept)\n",
    "\n",
    "    tau = 150.0\n",
    "    key, subkey = jax.random.split(key)\n",
    "    beta = jax.random.normal(subkey, shape=(ndim,)) / jnp.sqrt(tau)\n",
    "    _, samples = jax.lax.scan(scan_f, (beta, tau, key), jnp.arange(n_samples))\n",
    "    samples = jax.tree_util.tree_map(lambda x: x[n_warm_up_samples:], samples)\n",
    "    return samples\n",
    "\n",
    "\n",
    "key = jax.random.PRNGKey(np.random.randint(int(1e5)))\n",
    "keys = jax.random.split(key, n_chains)\n",
    "samples = get_mahmc_within_gibbs_samples(keys, N, epsilon)\n",
    "accuracy = (\n",
    "    np.sum(\n",
    "        y\n",
    "        == (np.mean(expit(jnp.dot(samples[0][0], X.T)) >= 0.5, axis=0) >= 0.5).astype(\n",
    "            int\n",
    "        )\n",
    "    )\n",
    "    / y.shape[0]\n",
    ")\n",
    "print(\n",
    "    f\"\"\"\n",
    "### MAHMC-within-Gibbs, N: {N}, epsilon: {epsilon}\n",
    "\n",
    "energies_ess: {get_min_ess(samples[2][..., None].copy()) / N}\n",
    "acceptance: {np.mean(samples[3])}\n",
    "accuracy: {\n",
    "    np.sum(\n",
    "        y == (\n",
    "            np.mean(\n",
    "                expit(jnp.dot(samples[0][0], X.T)) >= 0.5,\n",
    "                axis=0\n",
    "            ) >= 0.5\n",
    "        ).astype(int)\n",
    "    ) / y.shape[0]\n",
    "}\n",
    "\n",
    "\"\"\"\n",
    ")"
   ]
  },
  {
   "cell_type": "markdown",
   "id": "aaecf545",
   "metadata": {
    "lines_to_next_cell": 2
   },
   "source": [
    "# MALA with persistent momentum"
   ]
  },
  {
   "cell_type": "code",
   "execution_count": 9,
   "id": "b092386d",
   "metadata": {
    "lines_to_next_cell": 2
   },
   "outputs": [
    {
     "name": "stderr",
     "output_type": "stream",
     "text": [
      "100%|████████████████████████████████████████████████████████████████████████████████████████████████████████████████████████████████████████████████████████████████████████████████| 1/1 [00:00<00:00, 7371.36it/s]\n"
     ]
    },
    {
     "name": "stdout",
     "output_type": "stream",
     "text": [
      "\n",
      "### MALA-P-within-Gibbs, epsilon: 0.09, alpha: 0.9\n",
      "\n",
      "energies_ess: 0.03631890030070464\n",
      "acceptance: 0.9016111493110657\n",
      "accuracy: 0.9876977205276489\n",
      "\n",
      "\n"
     ]
    }
   ],
   "source": [
    "epsilon = 0.09\n",
    "alpha = 0.9\n",
    "\n",
    "\n",
    "@jax.jit\n",
    "@functools.partial(jax.vmap, in_axes=(0, None, None), out_axes=0)\n",
    "def get_mala_persistent_within_gibbs_samples(key, epsilon, alpha):\n",
    "    def scan_f(carry, ii):\n",
    "        beta, p, tau, key = carry\n",
    "        beta, p, tau, key, accept = mala_persistent_within_gibbs(\n",
    "            beta, p, tau, key, epsilon, L, alpha\n",
    "        )\n",
    "        energy = joint_energy(beta, tau)\n",
    "        return (beta, p, tau, key), (beta, tau, energy, accept)\n",
    "\n",
    "    tau = 150.0\n",
    "    key, subkey = jax.random.split(key)\n",
    "    beta = jax.random.normal(subkey, shape=(ndim,)) / jnp.sqrt(tau)\n",
    "    key, subkey = jax.random.split(key)\n",
    "    p = jax.random.normal(subkey, shape=beta.shape)\n",
    "    _, samples = jax.lax.scan(scan_f, (beta, p, tau, key), jnp.arange(n_samples))\n",
    "    samples = jax.tree_util.tree_map(lambda x: x[n_warm_up_samples:], samples)\n",
    "    return samples\n",
    "\n",
    "\n",
    "key = jax.random.PRNGKey(np.random.randint(int(1e5)))\n",
    "keys = jax.random.split(key, n_chains)\n",
    "samples = get_mala_persistent_within_gibbs_samples(keys, epsilon, alpha)\n",
    "print(\n",
    "    f\"\"\"\n",
    "### MALA-P-within-Gibbs, epsilon: {epsilon}, alpha: {alpha}\n",
    "\n",
    "energies_ess: {get_min_ess(samples[2][..., None].copy())}\n",
    "acceptance: {np.mean(samples[3])}\n",
    "accuracy: {\n",
    "    np.sum(\n",
    "        y == (\n",
    "            np.mean(\n",
    "                expit(jnp.dot(samples[0][0], X.T)) >= 0.5,\n",
    "                axis=0\n",
    "            ) >= 0.5\n",
    "        ).astype(int)\n",
    "    ) / y.shape[0]\n",
    "}\n",
    "\n",
    "\"\"\"\n",
    ")"
   ]
  },
  {
   "cell_type": "markdown",
   "id": "d3a825c0",
   "metadata": {
    "lines_to_next_cell": 2
   },
   "source": [
    "# MALA with persistent momentum and non-reversible Metropolis accept/reject"
   ]
  },
  {
   "cell_type": "code",
   "execution_count": 10,
   "id": "b85694d3",
   "metadata": {},
   "outputs": [
    {
     "name": "stderr",
     "output_type": "stream",
     "text": [
      "100%|████████████████████████████████████████████████████████████████████████████████████████████████████████████████████████████████████████████████████████████████████████████████| 1/1 [00:00<00:00, 6864.65it/s]\n"
     ]
    },
    {
     "name": "stdout",
     "output_type": "stream",
     "text": [
      "\n",
      "### MALA-P-N-within-Gibbs, epsilon: 0.1, alpha: 0.9, delta: 0.015\n",
      "\n",
      "energies_ess: 0.04087781447592402\n",
      "acceptance: 0.8686622381210327\n",
      "accuracy: 0.9876977205276489\n",
      "\n",
      "\n"
     ]
    }
   ],
   "source": [
    "epsilon = 0.1\n",
    "alpha = 0.9\n",
    "delta = 0.015\n",
    "\n",
    "\n",
    "@jax.jit\n",
    "@functools.partial(jax.vmap, in_axes=(0, None, None, None), out_axes=0)\n",
    "def get_mala_persistent_nonreversible_within_gibbs_samples(key, epsilon, alpha, delta):\n",
    "    def scan_f(carry, ii):\n",
    "        beta, p, tau, v, key = carry\n",
    "        beta, p, tau, v, key, accept = mala_persistent_nonreversible_within_gibbs(\n",
    "            beta, p, tau, v, key, epsilon, L, alpha, delta\n",
    "        )\n",
    "        energy = joint_energy(beta, tau)\n",
    "        return (beta, p, tau, v, key), (beta, tau, energy, accept)\n",
    "\n",
    "    tau = 150.0\n",
    "    key, subkey = jax.random.split(key)\n",
    "    beta = jax.random.normal(subkey, shape=(ndim,)) / jnp.sqrt(tau)\n",
    "    key, subkey = jax.random.split(key)\n",
    "    p = jax.random.normal(subkey, shape=beta.shape)\n",
    "    key, subkey = jax.random.split(key)\n",
    "    v = jax.random.uniform(subkey) * 2 - 1\n",
    "    _, samples = jax.lax.scan(scan_f, (beta, p, tau, v, key), jnp.arange(n_samples))\n",
    "    samples = jax.tree_util.tree_map(lambda x: x[n_warm_up_samples:], samples)\n",
    "    return samples\n",
    "\n",
    "\n",
    "key = jax.random.PRNGKey(np.random.randint(int(1e5)))\n",
    "keys = jax.random.split(key, n_chains)\n",
    "samples = get_mala_persistent_nonreversible_within_gibbs_samples(\n",
    "    keys, epsilon, alpha, delta\n",
    ")\n",
    "print(\n",
    "    f\"\"\"\n",
    "### MALA-P-N-within-Gibbs, epsilon: {epsilon}, alpha: {alpha}, delta: {delta}\n",
    "\n",
    "energies_ess: {get_min_ess(samples[2][..., None].copy())}\n",
    "acceptance: {np.mean(samples[3])}\n",
    "accuracy: {\n",
    "    np.sum(\n",
    "        y == (\n",
    "            np.mean(\n",
    "                expit(jnp.dot(samples[0][0], X.T)) >= 0.5,\n",
    "                axis=0\n",
    "            ) >= 0.5\n",
    "        ).astype(int)\n",
    "    ) / y.shape[0]\n",
    "}\n",
    "\n",
    "\"\"\"\n",
    ")"
   ]
  }
 ],
 "metadata": {
  "jupytext": {
   "formats": "ipynb,py:percent"
  },
  "kernelspec": {
   "display_name": "Python 3 (ipykernel)",
   "language": "python",
   "name": "python3"
  },
  "language_info": {
   "codemirror_mode": {
    "name": "ipython",
    "version": 3
   },
   "file_extension": ".py",
   "mimetype": "text/x-python",
   "name": "python",
   "nbconvert_exporter": "python",
   "pygments_lexer": "ipython3",
   "version": "3.8.12"
  }
 },
 "nbformat": 4,
 "nbformat_minor": 5
}
